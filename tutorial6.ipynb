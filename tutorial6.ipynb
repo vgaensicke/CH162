{
 "cells": [
  {
   "cell_type": "code",
   "execution_count": 37,
   "metadata": {},
   "outputs": [],
   "source": [
    "import matplotlib.pyplot as plt\n",
    "import numpy as np\n",
    "from scipy.stats import linregress"
   ]
  },
  {
   "cell_type": "code",
   "execution_count": 25,
   "metadata": {},
   "outputs": [],
   "source": [
    "# Rotational terms extracted from MW spectra\n",
    "rot_term = np.array([83.03, 104.10, 124.30, 145.03, 165.51, 185.86, 206.38, 226.50])\n",
    "J = np.arange(3, 11, 1)\n",
    "\n",
    "# \n",
    "J_1 = J+1\n",
    "J_1_sq = (J_1)**2\n",
    "\n",
    "y = rot_term/J_1\n",
    "x = J_1_sq"
   ]
  },
  {
   "cell_type": "code",
   "execution_count": 71,
   "metadata": {},
   "outputs": [
    {
     "name": "stdout",
     "output_type": "stream",
     "text": [
      "-0.0018208318030136581 20.809669693042625\n"
     ]
    },
    {
     "data": {
      "image/png": "[encoded data removed]",
      "text/plain": [
       "<Figure size 432x288 with 1 Axes>"
      ]
     },
     "metadata": {
      "needs_background": "light"
     },
     "output_type": "display_data"
    }
   ],
   "source": [
    "fig = plt.figure()\n",
    "axs = plt.axes()\n",
    "\n",
    "slope, intercept = linregress(x, y)[0:2]\n",
    "print(slope, intercept)\n",
    "\n",
    "plt.scatter(x, y)\n",
    "plt.xlabel(\"$(J + 1)^2$\")\n",
    "plt.ylabel(\"${v_{J+1 <- J}}/{J+1}$\")\n",
    "plt.plot(x, slope*x + intercept)\n",
    "plt.show()"
   ]
  },
  {
   "cell_type": "code",
   "execution_count": 47,
   "metadata": {},
   "outputs": [
    {
     "name": "stdout",
     "output_type": "stream",
     "text": [
      "0.00045520795075341454\n",
      "10.404834846521313\n"
     ]
    }
   ],
   "source": [
    "# Centrifugal distortion constant \n",
    "D = slope/-4\n",
    "print(D)\n",
    "\n",
    "# Rotational constant\n",
    "B = intercept/2\n",
    "print(B)"
   ]
  }
 ],
 "metadata": {
  "kernelspec": {
   "display_name": "Python 3",
   "language": "python",
   "name": "python3"
  },
  "language_info": {
   "codemirror_mode": {
    "name": "ipython",
    "version": 3
   },
   "file_extension": ".py",
   "mimetype": "text/x-python",
   "name": "python",
   "nbconvert_exporter": "python",
   "pygments_lexer": "ipython3",
   "version": "3.8.5"
  }
 },
 "nbformat": 4,
 "nbformat_minor": 4
}
